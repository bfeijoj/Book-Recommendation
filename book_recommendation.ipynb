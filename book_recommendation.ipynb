{
  "nbformat": 4,
  "nbformat_minor": 0,
  "metadata": {
    "colab": {
      "name": "book_recommendation.ipynb",
      "provenance": [],
      "authorship_tag": "ABX9TyPnQhGyIJSuz3eCCk/OLetC",
      "include_colab_link": true
    },
    "kernelspec": {
      "name": "python3",
      "display_name": "Python 3"
    },
    "language_info": {
      "name": "python"
    }
  },
  "cells": [
    {
      "cell_type": "markdown",
      "metadata": {
        "id": "view-in-github",
        "colab_type": "text"
      },
      "source": [
        "<a href=\"https://colab.research.google.com/github/bfeijoj/Book-Recommendation/blob/main/book_recommendation.ipynb\" target=\"_parent\"><img src=\"https://colab.research.google.com/assets/colab-badge.svg\" alt=\"Open In Colab\"/></a>"
      ]
    },
    {
      "cell_type": "code",
      "execution_count": 1,
      "metadata": {
        "id": "6O7YiemgWeJK"
      },
      "outputs": [],
      "source": [
        "import numpy as np\n",
        "import pandas as pd\n",
        "from scipy.sparse import csr_matrix\n",
        "from sklearn.neighbors import NearestNeighbors\n",
        "import matplotlib.pyplot as plt\n",
        "import zipfile\n",
        "from IPython.display import clear_output"
      ]
    },
    {
      "cell_type": "code",
      "source": [
        "# -------------------------------------------------------------------------- Recommend Function ----------------------------------------------------------------------------------------------\n",
        "\n",
        "def get_recommends(book = \"\"):\n",
        "\n",
        "  distance, recommended_books = model.kneighbors(df_user_title.loc[book, :].values.reshape(1, -1))\n",
        "  recommended = df_user_title.index[recommended_books][0][1:]\n",
        "\n",
        "  return print(' First Book = ',recommended[0],'\\n',\n",
        "  \t\t\t\t'Second Book = ',recommended[1],'\\n',\n",
        "  \t\t\t\t'Third Book = ',recommended[2],'\\n',\n",
        "  \t\t\t\t'Forth Book = ',recommended[3])"
      ],
      "metadata": {
        "id": "gxuRvWbHWrCU"
      },
      "execution_count": 2,
      "outputs": []
    },
    {
      "cell_type": "code",
      "source": [
        "# ------------------------------------------------------------------------- Importing Files -------------------------------------------------------------------------------------------------\n",
        "\n",
        "!wget https://cdn.freecodecamp.org/project-data/books/book-crossings.zip\n",
        "\n",
        "!unzip book-crossings.zip\n",
        "\n",
        "books_filename = 'BX-Books.csv'\n",
        "ratings_filename = 'BX-Book-Ratings.csv'"
      ],
      "metadata": {
        "colab": {
          "base_uri": "https://localhost:8080/"
        },
        "id": "jlgbevj1WsR0",
        "outputId": "b0363c26-0584-4cc2-ab85-15705097ec05"
      },
      "execution_count": 3,
      "outputs": [
        {
          "output_type": "stream",
          "name": "stdout",
          "text": [
            "--2021-12-20 19:39:12--  https://cdn.freecodecamp.org/project-data/books/book-crossings.zip\n",
            "Resolving cdn.freecodecamp.org (cdn.freecodecamp.org)... 172.67.70.149, 104.26.3.33, 104.26.2.33, ...\n",
            "Connecting to cdn.freecodecamp.org (cdn.freecodecamp.org)|172.67.70.149|:443... connected.\n",
            "HTTP request sent, awaiting response... 200 OK\n",
            "Length: 26085508 (25M) [application/zip]\n",
            "Saving to: ‘book-crossings.zip’\n",
            "\n",
            "book-crossings.zip  100%[===================>]  24.88M   163MB/s    in 0.2s    \n",
            "\n",
            "2021-12-20 19:39:12 (163 MB/s) - ‘book-crossings.zip’ saved [26085508/26085508]\n",
            "\n",
            "Archive:  book-crossings.zip\n",
            "  inflating: BX-Book-Ratings.csv     \n",
            "  inflating: BX-Books.csv            \n",
            "  inflating: BX-Users.csv            \n"
          ]
        }
      ]
    },
    {
      "cell_type": "code",
      "source": [
        "# ------------------------------------------------------------------------- CSV to DataFrame ------------------------------------------------------------------------------------------------\n",
        "\n",
        "# import csv data into dataframes\n",
        "df_books = pd.read_csv(\n",
        "    books_filename,\n",
        "    encoding = \"ISO-8859-1\",\n",
        "    sep=\";\",\n",
        "    header=0,\n",
        "    names=['isbn', 'title', 'author'],\n",
        "    usecols=['isbn', 'title', 'author'],\n",
        "    dtype={'isbn': 'str', 'title': 'str', 'author': 'str'})\n",
        "\n",
        "df_ratings = pd.read_csv(\n",
        "    ratings_filename,\n",
        "    encoding = \"ISO-8859-1\",\n",
        "    sep=\";\",\n",
        "    header=0,\n",
        "    names=['user', 'isbn', 'rating'],\n",
        "    usecols=['user', 'isbn', 'rating'],\n",
        "    dtype={'user': 'int32', 'isbn': 'str', 'rating': 'float32'})"
      ],
      "metadata": {
        "id": "CbhOwTk1WvVf"
      },
      "execution_count": 4,
      "outputs": []
    },
    {
      "cell_type": "code",
      "source": [
        "# ------------------------------------------------------------------------- Data Management  ------------------------------------------------------------------------------------------------\n",
        "\n",
        "relevant_users = df_ratings['user'].value_counts() > 200\n",
        "relevant_users = relevant_users[relevant_users == True].index\n",
        "\n",
        "df_ratings = df_ratings[df_ratings['user'].isin(relevant_users)]\n",
        "\n",
        "df_ratings_books = df_ratings.merge(df_books, on = 'isbn')\n",
        "\n",
        "relevant_books = df_ratings_books['isbn'].value_counts() > 100\n",
        "relevant_books = relevant_books[relevant_books == True].index\n",
        "\n",
        "df_ratings_books = df_ratings_books[df_ratings_books['isbn'].isin(relevant_books)]\n",
        "\n",
        "df_ratings_books.drop_duplicates(['user','isbn'], inplace=True)\n",
        "\n",
        "df_user_title = df_ratings_books.pivot_table(columns = 'user', index = 'title', values = 'rating')\n",
        "df_user_title.fillna(0, inplace = True)\n",
        "\n",
        "df_user_title_sparse = csr_matrix(df_user_title)"
      ],
      "metadata": {
        "colab": {
          "base_uri": "https://localhost:8080/"
        },
        "id": "Jwhlu4d0WzPc",
        "outputId": "3e1b80e6-5402-4bcb-afd8-1713aded05df"
      },
      "execution_count": 5,
      "outputs": [
        {
          "output_type": "stream",
          "name": "stderr",
          "text": [
            "/usr/local/lib/python3.7/dist-packages/ipykernel_launcher.py:15: SettingWithCopyWarning: \n",
            "A value is trying to be set on a copy of a slice from a DataFrame\n",
            "\n",
            "See the caveats in the documentation: https://pandas.pydata.org/pandas-docs/stable/user_guide/indexing.html#returning-a-view-versus-a-copy\n",
            "  from ipykernel import kernelapp as app\n"
          ]
        }
      ]
    },
    {
      "cell_type": "code",
      "source": [
        "# ------------------------------------------------------------------------- Machine Learning Model --------------------------------------------------------------------------------\n",
        "\n",
        "model = NearestNeighbors(metric=\"cosine\",algorithm=\"brute\", p=2)\n",
        "model.fit(df_user_title_sparse)"
      ],
      "metadata": {
        "colab": {
          "base_uri": "https://localhost:8080/"
        },
        "id": "_2k2anRtW8yI",
        "outputId": "c9bcd1b1-ba51-4913-deaa-25345b8e0a8c"
      },
      "execution_count": 6,
      "outputs": [
        {
          "output_type": "execute_result",
          "data": {
            "text/plain": [
              "NearestNeighbors(algorithm='brute', metric='cosine')"
            ]
          },
          "metadata": {},
          "execution_count": 6
        }
      ]
    },
    {
      "cell_type": "code",
      "source": [
        "# -------------------------------------------------------------------------- Recommendations ------------------------------------------------------------------------------------------------\n",
        "\n",
        "get_recommends(book = \"A Walk to Remember\")"
      ],
      "metadata": {
        "colab": {
          "base_uri": "https://localhost:8080/"
        },
        "id": "VhNK9MFzXEAo",
        "outputId": "0ce7cac1-7631-4890-bf65-ab2196d596e8"
      },
      "execution_count": 10,
      "outputs": [
        {
          "output_type": "stream",
          "name": "stdout",
          "text": [
            " First Book =  The Notebook \n",
            " Second Book =  Circle of Friends \n",
            " Third Book =  Bridget Jones's Diary \n",
            " Forth Book =  The Bridges of Madison County\n"
          ]
        },
        {
          "output_type": "stream",
          "name": "stderr",
          "text": [
            "/usr/local/lib/python3.7/dist-packages/ipykernel_launcher.py:6: FutureWarning: Support for multi-dimensional indexing (e.g. `obj[:, None]`) is deprecated and will be removed in a future version.  Convert to a numpy array before indexing instead.\n",
            "  \n"
          ]
        }
      ]
    }
  ]
}